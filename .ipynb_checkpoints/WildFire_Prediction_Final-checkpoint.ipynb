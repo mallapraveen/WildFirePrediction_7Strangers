{
 "cells": [
  {
   "cell_type": "code",
   "execution_count": 1,
   "metadata": {},
   "outputs": [],
   "source": [
    "import pandas as pd\n",
    "import numpy as np\n",
    "import seaborn as sn\n",
    "\n",
    "from sklearn.model_selection import train_test_split # data split\n",
    "from sklearn import metrics\n",
    "from sklearn.linear_model import LinearRegression # OLS algorithm\n",
    "from sklearn.linear_model import Ridge # Ridge algorithm\n",
    "from sklearn.linear_model import Lasso # Lasso algorithm\n",
    "from sklearn.linear_model import BayesianRidge # Bayesian algorithm\n",
    "from sklearn.linear_model import ElasticNet # ElasticNet algorithm\n",
    "from sklearn.ensemble import RandomForestRegressor\n",
    "\n",
    "from sklearn.metrics import explained_variance_score as evs # evaluation metric\n",
    "from sklearn.metrics import r2_score as r2 # evaluation metric\n",
    "from sklearn import metrics\n",
    "from sklearn.model_selection import train_test_split\n",
    "from sklearn.neighbors import KNeighborsClassifier\n",
    "from sklearn.tree import DecisionTreeClassifier\n",
    "from sklearn import svm\n",
    "from sklearn.linear_model import LogisticRegression\n",
    "from sklearn.metrics import f1_score\n",
    "from sklearn.metrics import accuracy_score\n",
    "from sklearn.metrics import jaccard_score\n",
    "from sklearn import preprocessing\n",
    "import folium\n",
    "import matplotlib.pyplot as plt\n",
    "%matplotlib inline"
   ]
  },
  {
   "cell_type": "code",
   "execution_count": 2,
   "metadata": {},
   "outputs": [],
   "source": [
    "x_columns=['WindSustained', 'GustSustained','FPI', 'closeToWindThreshold', 'closeToGustThreshold', 'eFPI', 'eThres']\n"
   ]
  },
  {
   "cell_type": "markdown",
   "metadata": {},
   "source": [
    "## Read data for Training"
   ]
  },
  {
   "cell_type": "code",
   "execution_count": 3,
   "metadata": {},
   "outputs": [
    {
     "data": {
      "text/html": [
       "<div>\n",
       "<style scoped>\n",
       "    .dataframe tbody tr th:only-of-type {\n",
       "        vertical-align: middle;\n",
       "    }\n",
       "\n",
       "    .dataframe tbody tr th {\n",
       "        vertical-align: top;\n",
       "    }\n",
       "\n",
       "    .dataframe thead th {\n",
       "        text-align: right;\n",
       "    }\n",
       "</style>\n",
       "<table border=\"1\" class=\"dataframe\">\n",
       "  <thead>\n",
       "    <tr style=\"text-align: right;\">\n",
       "      <th></th>\n",
       "      <th>Circuit</th>\n",
       "      <th>WindSustained</th>\n",
       "      <th>GustSustained</th>\n",
       "      <th>Thresholds</th>\n",
       "      <th>FPI</th>\n",
       "      <th>Reasons</th>\n",
       "      <th>Month</th>\n",
       "      <th>pspsActivated</th>\n",
       "    </tr>\n",
       "  </thead>\n",
       "  <tbody>\n",
       "    <tr>\n",
       "      <th>0</th>\n",
       "      <td>BLACKHILLS</td>\n",
       "      <td>12.2</td>\n",
       "      <td>18.6</td>\n",
       "      <td>31/46</td>\n",
       "      <td>3.72</td>\n",
       "      <td>NaN</td>\n",
       "      <td>OCT</td>\n",
       "      <td>0</td>\n",
       "    </tr>\n",
       "    <tr>\n",
       "      <th>1</th>\n",
       "      <td>GNATCATCHER</td>\n",
       "      <td>9.1</td>\n",
       "      <td>21.0</td>\n",
       "      <td>31/46</td>\n",
       "      <td>4.20</td>\n",
       "      <td>NaN</td>\n",
       "      <td>OCT</td>\n",
       "      <td>0</td>\n",
       "    </tr>\n",
       "    <tr>\n",
       "      <th>2</th>\n",
       "      <td>ENERGY</td>\n",
       "      <td>11.9</td>\n",
       "      <td>20.9</td>\n",
       "      <td>31/46</td>\n",
       "      <td>4.18</td>\n",
       "      <td>NaN</td>\n",
       "      <td>OCT</td>\n",
       "      <td>0</td>\n",
       "    </tr>\n",
       "    <tr>\n",
       "      <th>3</th>\n",
       "      <td>ECHO</td>\n",
       "      <td>26.0</td>\n",
       "      <td>43.3</td>\n",
       "      <td>31/46</td>\n",
       "      <td>14.36</td>\n",
       "      <td>High Wind Trend - Exceeded FPI</td>\n",
       "      <td>DEC</td>\n",
       "      <td>1</td>\n",
       "    </tr>\n",
       "    <tr>\n",
       "      <th>4</th>\n",
       "      <td>LARCH</td>\n",
       "      <td>41.2</td>\n",
       "      <td>56.3</td>\n",
       "      <td>31/46</td>\n",
       "      <td>12.50</td>\n",
       "      <td>Exceeded Threshold - Exceeded FPI</td>\n",
       "      <td>JAN</td>\n",
       "      <td>1</td>\n",
       "    </tr>\n",
       "  </tbody>\n",
       "</table>\n",
       "</div>"
      ],
      "text/plain": [
       "       Circuit  WindSustained  GustSustained Thresholds    FPI  \\\n",
       "0   BLACKHILLS           12.2           18.6      31/46   3.72   \n",
       "1  GNATCATCHER            9.1           21.0      31/46   4.20   \n",
       "2       ENERGY           11.9           20.9      31/46   4.18   \n",
       "3         ECHO           26.0           43.3      31/46  14.36   \n",
       "4        LARCH           41.2           56.3      31/46  12.50   \n",
       "\n",
       "                             Reasons Month  pspsActivated  \n",
       "0                                NaN   OCT              0  \n",
       "1                                NaN   OCT              0  \n",
       "2                                NaN   OCT              0  \n",
       "3     High Wind Trend - Exceeded FPI   DEC              1  \n",
       "4  Exceeded Threshold - Exceeded FPI   JAN              1  "
      ]
     },
     "execution_count": 3,
     "metadata": {},
     "output_type": "execute_result"
    }
   ],
   "source": [
    "fire_df = pd.read_csv(\"CSV/psps_data.csv\")\n",
    "\n",
    "fire_df.head()"
   ]
  },
  {
   "cell_type": "markdown",
   "metadata": {},
   "source": [
    "## Prepare dataset for training"
   ]
  },
  {
   "cell_type": "code",
   "execution_count": 4,
   "metadata": {},
   "outputs": [],
   "source": [
    "def prepare_test_data(data):\n",
    "    data[[\"WindThreshold\", \"GustTheshold\"]] = data.Thresholds.str.split('/',expand=True)\n",
    "    data[\"WindThreshold\"] = data[\"WindThreshold\"].astype(float)\n",
    "    data[\"GustTheshold\"] = data[\"GustTheshold\"].astype(float)\n",
    "    data[\"closeToWindThreshold\"] = round((data[\"WindSustained\"] * 100)/data[\"WindThreshold\"].astype(float), 2)\n",
    "    data[\"closeToGustThreshold\"] = round((data[\"GustSustained\"] * 100)/data[\"GustTheshold\"].astype(float), 2)\n",
    "    \n",
    "    data[\"eFPI\"] =  data[\"FPI\"].apply(lambda x: round(x/12,2))\n",
    "    data[\"eThres\"] = round(data[\"WindSustained\"] / data[\"WindThreshold\"],2)\n",
    "    data[\"eThres\"] = np.where(round(data[\"GustSustained\"] / data[\"GustTheshold\"], 2) > data[\"eThres\"], \n",
    "                              round(data[\"GustSustained\"] / data[\"GustTheshold\"], 2) , data[\"eThres\"])\n",
    "\n",
    "\n",
    "    data.drop([\"Thresholds\"], axis=1, inplace=True)\n",
    "    data.replace([np.inf, -np.inf], np.nan, inplace=True)\n",
    "    data.fillna(0,inplace=True)\n",
    "    return data\n"
   ]
  },
  {
   "cell_type": "markdown",
   "metadata": {},
   "source": [
    "# Correlation"
   ]
  },
  {
   "cell_type": "code",
   "execution_count": 5,
   "metadata": {},
   "outputs": [
    {
     "data": {
      "text/html": [
       "<div>\n",
       "<style scoped>\n",
       "    .dataframe tbody tr th:only-of-type {\n",
       "        vertical-align: middle;\n",
       "    }\n",
       "\n",
       "    .dataframe tbody tr th {\n",
       "        vertical-align: top;\n",
       "    }\n",
       "\n",
       "    .dataframe thead th {\n",
       "        text-align: right;\n",
       "    }\n",
       "</style>\n",
       "<table border=\"1\" class=\"dataframe\">\n",
       "  <thead>\n",
       "    <tr style=\"text-align: right;\">\n",
       "      <th></th>\n",
       "      <th>WindSustained</th>\n",
       "      <th>GustSustained</th>\n",
       "      <th>FPI</th>\n",
       "      <th>pspsActivated</th>\n",
       "      <th>WindThreshold</th>\n",
       "      <th>GustTheshold</th>\n",
       "      <th>closeToWindThreshold</th>\n",
       "      <th>closeToGustThreshold</th>\n",
       "      <th>eFPI</th>\n",
       "      <th>eThres</th>\n",
       "    </tr>\n",
       "  </thead>\n",
       "  <tbody>\n",
       "    <tr>\n",
       "      <th>WindSustained</th>\n",
       "      <td>1.000000</td>\n",
       "      <td>0.817032</td>\n",
       "      <td>0.714158</td>\n",
       "      <td>0.753858</td>\n",
       "      <td>0.087376</td>\n",
       "      <td>0.080376</td>\n",
       "      <td>0.992861</td>\n",
       "      <td>0.807421</td>\n",
       "      <td>0.714290</td>\n",
       "      <td>0.923930</td>\n",
       "    </tr>\n",
       "    <tr>\n",
       "      <th>GustSustained</th>\n",
       "      <td>0.817032</td>\n",
       "      <td>1.000000</td>\n",
       "      <td>0.882609</td>\n",
       "      <td>0.916193</td>\n",
       "      <td>0.073059</td>\n",
       "      <td>0.079335</td>\n",
       "      <td>0.812686</td>\n",
       "      <td>0.991926</td>\n",
       "      <td>0.882648</td>\n",
       "      <td>0.911768</td>\n",
       "    </tr>\n",
       "    <tr>\n",
       "      <th>FPI</th>\n",
       "      <td>0.714158</td>\n",
       "      <td>0.882609</td>\n",
       "      <td>1.000000</td>\n",
       "      <td>0.971728</td>\n",
       "      <td>0.018532</td>\n",
       "      <td>0.023416</td>\n",
       "      <td>0.717369</td>\n",
       "      <td>0.882958</td>\n",
       "      <td>0.999975</td>\n",
       "      <td>0.813367</td>\n",
       "    </tr>\n",
       "    <tr>\n",
       "      <th>pspsActivated</th>\n",
       "      <td>0.753858</td>\n",
       "      <td>0.916193</td>\n",
       "      <td>0.971728</td>\n",
       "      <td>1.000000</td>\n",
       "      <td>0.001583</td>\n",
       "      <td>0.001581</td>\n",
       "      <td>0.760338</td>\n",
       "      <td>0.920786</td>\n",
       "      <td>0.971734</td>\n",
       "      <td>0.850049</td>\n",
       "    </tr>\n",
       "    <tr>\n",
       "      <th>WindThreshold</th>\n",
       "      <td>0.087376</td>\n",
       "      <td>0.073059</td>\n",
       "      <td>0.018532</td>\n",
       "      <td>0.001583</td>\n",
       "      <td>1.000000</td>\n",
       "      <td>0.852874</td>\n",
       "      <td>-0.022175</td>\n",
       "      <td>-0.026039</td>\n",
       "      <td>0.018484</td>\n",
       "      <td>-0.026645</td>\n",
       "    </tr>\n",
       "    <tr>\n",
       "      <th>GustTheshold</th>\n",
       "      <td>0.080376</td>\n",
       "      <td>0.079335</td>\n",
       "      <td>0.023416</td>\n",
       "      <td>0.001581</td>\n",
       "      <td>0.852874</td>\n",
       "      <td>1.000000</td>\n",
       "      <td>-0.014418</td>\n",
       "      <td>-0.038287</td>\n",
       "      <td>0.023688</td>\n",
       "      <td>-0.031559</td>\n",
       "    </tr>\n",
       "    <tr>\n",
       "      <th>closeToWindThreshold</th>\n",
       "      <td>0.992861</td>\n",
       "      <td>0.812686</td>\n",
       "      <td>0.717369</td>\n",
       "      <td>0.760338</td>\n",
       "      <td>-0.022175</td>\n",
       "      <td>-0.014418</td>\n",
       "      <td>1.000000</td>\n",
       "      <td>0.815573</td>\n",
       "      <td>0.717498</td>\n",
       "      <td>0.930809</td>\n",
       "    </tr>\n",
       "    <tr>\n",
       "      <th>closeToGustThreshold</th>\n",
       "      <td>0.807421</td>\n",
       "      <td>0.991926</td>\n",
       "      <td>0.882958</td>\n",
       "      <td>0.920786</td>\n",
       "      <td>-0.026039</td>\n",
       "      <td>-0.038287</td>\n",
       "      <td>0.815573</td>\n",
       "      <td>1.000000</td>\n",
       "      <td>0.882958</td>\n",
       "      <td>0.918226</td>\n",
       "    </tr>\n",
       "    <tr>\n",
       "      <th>eFPI</th>\n",
       "      <td>0.714290</td>\n",
       "      <td>0.882648</td>\n",
       "      <td>0.999975</td>\n",
       "      <td>0.971734</td>\n",
       "      <td>0.018484</td>\n",
       "      <td>0.023688</td>\n",
       "      <td>0.717498</td>\n",
       "      <td>0.882958</td>\n",
       "      <td>1.000000</td>\n",
       "      <td>0.813454</td>\n",
       "    </tr>\n",
       "    <tr>\n",
       "      <th>eThres</th>\n",
       "      <td>0.923930</td>\n",
       "      <td>0.911768</td>\n",
       "      <td>0.813367</td>\n",
       "      <td>0.850049</td>\n",
       "      <td>-0.026645</td>\n",
       "      <td>-0.031559</td>\n",
       "      <td>0.930809</td>\n",
       "      <td>0.918226</td>\n",
       "      <td>0.813454</td>\n",
       "      <td>1.000000</td>\n",
       "    </tr>\n",
       "  </tbody>\n",
       "</table>\n",
       "</div>"
      ],
      "text/plain": [
       "                      WindSustained  GustSustained       FPI  pspsActivated  \\\n",
       "WindSustained              1.000000       0.817032  0.714158       0.753858   \n",
       "GustSustained              0.817032       1.000000  0.882609       0.916193   \n",
       "FPI                        0.714158       0.882609  1.000000       0.971728   \n",
       "pspsActivated              0.753858       0.916193  0.971728       1.000000   \n",
       "WindThreshold              0.087376       0.073059  0.018532       0.001583   \n",
       "GustTheshold               0.080376       0.079335  0.023416       0.001581   \n",
       "closeToWindThreshold       0.992861       0.812686  0.717369       0.760338   \n",
       "closeToGustThreshold       0.807421       0.991926  0.882958       0.920786   \n",
       "eFPI                       0.714290       0.882648  0.999975       0.971734   \n",
       "eThres                     0.923930       0.911768  0.813367       0.850049   \n",
       "\n",
       "                      WindThreshold  GustTheshold  closeToWindThreshold  \\\n",
       "WindSustained              0.087376      0.080376              0.992861   \n",
       "GustSustained              0.073059      0.079335              0.812686   \n",
       "FPI                        0.018532      0.023416              0.717369   \n",
       "pspsActivated              0.001583      0.001581              0.760338   \n",
       "WindThreshold              1.000000      0.852874             -0.022175   \n",
       "GustTheshold               0.852874      1.000000             -0.014418   \n",
       "closeToWindThreshold      -0.022175     -0.014418              1.000000   \n",
       "closeToGustThreshold      -0.026039     -0.038287              0.815573   \n",
       "eFPI                       0.018484      0.023688              0.717498   \n",
       "eThres                    -0.026645     -0.031559              0.930809   \n",
       "\n",
       "                      closeToGustThreshold      eFPI    eThres  \n",
       "WindSustained                     0.807421  0.714290  0.923930  \n",
       "GustSustained                     0.991926  0.882648  0.911768  \n",
       "FPI                               0.882958  0.999975  0.813367  \n",
       "pspsActivated                     0.920786  0.971734  0.850049  \n",
       "WindThreshold                    -0.026039  0.018484 -0.026645  \n",
       "GustTheshold                     -0.038287  0.023688 -0.031559  \n",
       "closeToWindThreshold              0.815573  0.717498  0.930809  \n",
       "closeToGustThreshold              1.000000  0.882958  0.918226  \n",
       "eFPI                              0.882958  1.000000  0.813454  \n",
       "eThres                            0.918226  0.813454  1.000000  "
      ]
     },
     "execution_count": 5,
     "metadata": {},
     "output_type": "execute_result"
    }
   ],
   "source": [
    "fire_df_prep = prepare_test_data(fire_df)    \n",
    "fire_df.corr()"
   ]
  },
  {
   "cell_type": "code",
   "execution_count": 6,
   "metadata": {},
   "outputs": [
    {
     "data": {
      "image/png": "[encoded data removed]",
      "text/plain": [
       "<Figure size 432x288 with 2 Axes>"
      ]
     },
     "metadata": {
      "needs_background": "light"
     },
     "output_type": "display_data"
    }
   ],
   "source": [
    "corrMatrix = fire_df_prep.corr()\n",
    "sn.heatmap(corrMatrix, annot=True)\n",
    "plt.rcParams[\"figure.figsize\"] = (12, 10)\n",
    "plt.rcParams[\"figure.dpi\"] = 40\n",
    "plt.show()\n"
   ]
  },
  {
   "cell_type": "code",
   "execution_count": 7,
   "metadata": {},
   "outputs": [
    {
     "data": {
      "text/html": [
       "<div>\n",
       "<style scoped>\n",
       "    .dataframe tbody tr th:only-of-type {\n",
       "        vertical-align: middle;\n",
       "    }\n",
       "\n",
       "    .dataframe tbody tr th {\n",
       "        vertical-align: top;\n",
       "    }\n",
       "\n",
       "    .dataframe thead th {\n",
       "        text-align: right;\n",
       "    }\n",
       "</style>\n",
       "<table border=\"1\" class=\"dataframe\">\n",
       "  <thead>\n",
       "    <tr style=\"text-align: right;\">\n",
       "      <th></th>\n",
       "      <th>WindSustained</th>\n",
       "      <th>GustSustained</th>\n",
       "      <th>FPI</th>\n",
       "      <th>closeToWindThreshold</th>\n",
       "      <th>closeToGustThreshold</th>\n",
       "      <th>eFPI</th>\n",
       "      <th>eThres</th>\n",
       "    </tr>\n",
       "  </thead>\n",
       "  <tbody>\n",
       "    <tr>\n",
       "      <th>0</th>\n",
       "      <td>12.2</td>\n",
       "      <td>18.6</td>\n",
       "      <td>3.72</td>\n",
       "      <td>39.35</td>\n",
       "      <td>40.43</td>\n",
       "      <td>0.31</td>\n",
       "      <td>0.40</td>\n",
       "    </tr>\n",
       "    <tr>\n",
       "      <th>1</th>\n",
       "      <td>9.1</td>\n",
       "      <td>21.0</td>\n",
       "      <td>4.20</td>\n",
       "      <td>29.35</td>\n",
       "      <td>45.65</td>\n",
       "      <td>0.35</td>\n",
       "      <td>0.46</td>\n",
       "    </tr>\n",
       "    <tr>\n",
       "      <th>2</th>\n",
       "      <td>11.9</td>\n",
       "      <td>20.9</td>\n",
       "      <td>4.18</td>\n",
       "      <td>38.39</td>\n",
       "      <td>45.43</td>\n",
       "      <td>0.35</td>\n",
       "      <td>0.45</td>\n",
       "    </tr>\n",
       "    <tr>\n",
       "      <th>3</th>\n",
       "      <td>26.0</td>\n",
       "      <td>43.3</td>\n",
       "      <td>14.36</td>\n",
       "      <td>83.87</td>\n",
       "      <td>94.13</td>\n",
       "      <td>1.20</td>\n",
       "      <td>0.94</td>\n",
       "    </tr>\n",
       "    <tr>\n",
       "      <th>4</th>\n",
       "      <td>41.2</td>\n",
       "      <td>56.3</td>\n",
       "      <td>12.50</td>\n",
       "      <td>132.90</td>\n",
       "      <td>122.39</td>\n",
       "      <td>1.04</td>\n",
       "      <td>1.33</td>\n",
       "    </tr>\n",
       "  </tbody>\n",
       "</table>\n",
       "</div>"
      ],
      "text/plain": [
       "   WindSustained  GustSustained    FPI  closeToWindThreshold  \\\n",
       "0           12.2           18.6   3.72                 39.35   \n",
       "1            9.1           21.0   4.20                 29.35   \n",
       "2           11.9           20.9   4.18                 38.39   \n",
       "3           26.0           43.3  14.36                 83.87   \n",
       "4           41.2           56.3  12.50                132.90   \n",
       "\n",
       "   closeToGustThreshold  eFPI  eThres  \n",
       "0                 40.43  0.31    0.40  \n",
       "1                 45.65  0.35    0.46  \n",
       "2                 45.43  0.35    0.45  \n",
       "3                 94.13  1.20    0.94  \n",
       "4                122.39  1.04    1.33  "
      ]
     },
     "execution_count": 7,
     "metadata": {},
     "output_type": "execute_result"
    }
   ],
   "source": [
    "\n",
    "X = fire_df_prep[x_columns]\n",
    "y = fire_df_prep['pspsActivated'].values\n",
    "X.head()\n",
    "\n"
   ]
  },
  {
   "cell_type": "markdown",
   "metadata": {},
   "source": [
    "## Model Selection and train model"
   ]
  },
  {
   "cell_type": "code",
   "execution_count": 8,
   "metadata": {},
   "outputs": [
    {
     "name": "stdout",
     "output_type": "stream",
     "text": [
      "Train set: (861, 7) (861,)\n",
      "Test set: (287, 7) (287,)\n"
     ]
    }
   ],
   "source": [
    "X_train, X_test, y_train, y_test = train_test_split(X, y, test_size=0.25, random_state=40)\n",
    "X_train=X_train.astype('int')\n",
    "X_test=X_test.astype('int')\n",
    "y_train=y_train.astype('int')\n",
    "y_test=y_test.astype('int')\n",
    "\n",
    "\n",
    "print ('Train set:', X_train.shape,  y_train.shape)\n",
    "print ('Test set:', X_test.shape,  y_test.shape)"
   ]
  },
  {
   "cell_type": "code",
   "execution_count": null,
   "metadata": {},
   "outputs": [],
   "source": []
  },
  {
   "cell_type": "markdown",
   "metadata": {},
   "source": [
    "## Accuracy Function"
   ]
  },
  {
   "cell_type": "code",
   "execution_count": 9,
   "metadata": {},
   "outputs": [],
   "source": [
    "def accuracyy_chk(y_test, yhat):\n",
    "    lst = []\n",
    "    try: lst+=[round(metrics.accuracy_score(y_test, yhat), 2)]\n",
    "    except: lst+=[None]\n",
    "        \n",
    "    try: lst+=[round(f1_score(y_test, yhat, average='weighted'), 2)]\n",
    "    except: lst+=[None]\n",
    "        \n",
    "    try: lst+=[round(jaccard_score(y_test, yhat, average='weighted'), 2)]\n",
    "    except: lst+=[None]\n",
    "        \n",
    "    try: lst+=[round(evs(y_test, yhat), 2)]\n",
    "    except: lst+=[None]\n",
    "        \n",
    "    try: lst+=[round(r2(y_test, yhat), 2)]\n",
    "    except: lst+=[None]\n",
    "        \n",
    "    try: lst+=[round(metrics.mean_absolute_error(y_test, yhat),2)]\n",
    "    except: lst+=[None]\n",
    "        \n",
    "    try: lst+=[round(metrics.mean_squared_error(y_test, yhat),2)]\n",
    "    except: lst+=[None]\n",
    "        \n",
    "    try: lst+=[round(np.sqrt(metrics.mean_squared_error(y_test, yhat)),2)]\n",
    "    except: lst+=[None]\n",
    "        \n",
    "    try: lst+=[round(metrics.explained_variance_score(y_test, yhat),2)]\n",
    "    except: lst+=[None]\n",
    "    \n",
    "    return lst"
   ]
  },
  {
   "cell_type": "markdown",
   "metadata": {},
   "source": [
    "# K Nearest Neighbor(KNN)"
   ]
  },
  {
   "cell_type": "code",
   "execution_count": 10,
   "metadata": {},
   "outputs": [
    {
     "data": {
      "text/plain": [
       "array([0.99651568, 0.98606272, 0.98606272, 0.98606272, 0.98606272,\n",
       "       0.98606272, 0.98606272, 0.98606272, 0.98606272, 0.98606272,\n",
       "       0.98606272, 0.98606272, 0.98606272, 0.98606272])"
      ]
     },
     "execution_count": 10,
     "metadata": {},
     "output_type": "execute_result"
    }
   ],
   "source": [
    "Ks = 15\n",
    "mean_acc = np.zeros((Ks-1))\n",
    "std_acc = np.zeros((Ks-1))\n",
    "ConfustionMx = [];\n",
    "for n in range(1,Ks):\n",
    "    kNN_model = KNeighborsClassifier(n_neighbors=n).fit(X_train,y_train)\n",
    "    yhat = kNN_model.predict(X_test)\n",
    "    mean_acc[n-1]=np.mean(yhat==y_test);\n",
    "    std_acc[n-1]=np.std(yhat==y_test)/np.sqrt(yhat.shape[0])\n",
    "\n",
    "mean_acc\n"
   ]
  },
  {
   "cell_type": "code",
   "execution_count": 11,
   "metadata": {},
   "outputs": [
    {
     "data": {
      "image/png": "[encoded data removed]",
      "text/plain": [
       "<Figure size 480x400 with 1 Axes>"
      ]
     },
     "metadata": {
      "needs_background": "light"
     },
     "output_type": "display_data"
    },
    {
     "name": "stdout",
     "output_type": "stream",
     "text": [
      "The best accuracy was with 0.9965156794425087 with k= 1\n"
     ]
    }
   ],
   "source": [
    "plt.plot(range(1,Ks),mean_acc,'g')\n",
    "plt.fill_between(range(1,Ks),mean_acc - 1 * std_acc,mean_acc + 1 * std_acc, alpha=0.10)\n",
    "plt.legend(('Accuracy ', '+/- 3xstd'))\n",
    "plt.ylabel('Accuracy ')\n",
    "plt.xlabel('Number of Neighbors (K)')\n",
    "plt.tight_layout()\n",
    "plt.show()\n",
    "print( \"The best accuracy was with\", mean_acc.max(), \"with k=\", mean_acc.argmax()+1)\n"
   ]
  },
  {
   "cell_type": "code",
   "execution_count": 12,
   "metadata": {},
   "outputs": [],
   "source": [
    "k = mean_acc.argmax()+1\n",
    "kNN_model = KNeighborsClassifier(n_neighbors=k).fit(X_train,y_train)\n",
    "yhat = kNN_model.predict(X_test)"
   ]
  },
  {
   "cell_type": "code",
   "execution_count": 13,
   "metadata": {},
   "outputs": [],
   "source": [
    "acc_knn = accuracyy_chk(y_test, yhat)"
   ]
  },
  {
   "cell_type": "markdown",
   "metadata": {},
   "source": [
    "# <h1>Support Vector Machine</h1>"
   ]
  },
  {
   "cell_type": "code",
   "execution_count": 14,
   "metadata": {},
   "outputs": [],
   "source": [
    "SVM_model = svm.SVC(kernel='rbf')\n",
    "SVM_model.fit(X_train, y_train)\n",
    "yhat = SVM_model.predict(X_test)"
   ]
  },
  {
   "cell_type": "code",
   "execution_count": 15,
   "metadata": {},
   "outputs": [],
   "source": [
    "acc_svm = accuracyy_chk(y_test, yhat)"
   ]
  },
  {
   "cell_type": "markdown",
   "metadata": {},
   "source": [
    "# Logistic Regression"
   ]
  },
  {
   "cell_type": "code",
   "execution_count": 16,
   "metadata": {},
   "outputs": [],
   "source": [
    "LR_model = LogisticRegression(C=0.01).fit(X_train,y_train)\n",
    "yhat = LR_model.predict(X_test)"
   ]
  },
  {
   "cell_type": "code",
   "execution_count": 17,
   "metadata": {},
   "outputs": [],
   "source": [
    "acc_logr = accuracyy_chk(y_test, yhat)"
   ]
  },
  {
   "cell_type": "markdown",
   "metadata": {},
   "source": [
    "# Linear Regression"
   ]
  },
  {
   "cell_type": "code",
   "execution_count": 18,
   "metadata": {},
   "outputs": [],
   "source": [
    "LRRR_model = LinearRegression()\n",
    "LRRR_model.fit(X_train,y_train)\n",
    "yhat = LRRR_model.predict(X_test)"
   ]
  },
  {
   "cell_type": "code",
   "execution_count": 19,
   "metadata": {},
   "outputs": [],
   "source": [
    "acc_lnr = accuracyy_chk(y_test, yhat)"
   ]
  },
  {
   "cell_type": "markdown",
   "metadata": {},
   "source": [
    "# Random Forest Regressor"
   ]
  },
  {
   "cell_type": "code",
   "execution_count": 20,
   "metadata": {},
   "outputs": [],
   "source": [
    "X = preprocessing.StandardScaler().fit(X).transform(X)\n",
    "\n",
    "X_train, X_test, y_train, y_test = train_test_split(X, y, test_size=0.2, random_state=40)\n",
    "X_train=X_train.astype('int')\n",
    "X_test=X_test.astype('int')\n",
    "y_train=y_train.astype('int')\n",
    "y_test=y_test.astype('int')\n",
    "\n",
    "\n",
    "rfr_model = RandomForestRegressor(n_estimators=20, random_state=0)\n",
    "rfr_model.fit(X_train,y_train)\n",
    "yhat = rfr_model.predict(X_test)"
   ]
  },
  {
   "cell_type": "code",
   "execution_count": 21,
   "metadata": {},
   "outputs": [],
   "source": [
    "acc_rfr = accuracyy_chk(y_test, yhat)"
   ]
  },
  {
   "cell_type": "markdown",
   "metadata": {},
   "source": [
    "# Accuracy Comparison"
   ]
  },
  {
   "cell_type": "code",
   "execution_count": 22,
   "metadata": {},
   "outputs": [
    {
     "data": {
      "text/html": [
       "<div>\n",
       "<style scoped>\n",
       "    .dataframe tbody tr th:only-of-type {\n",
       "        vertical-align: middle;\n",
       "    }\n",
       "\n",
       "    .dataframe tbody tr th {\n",
       "        vertical-align: top;\n",
       "    }\n",
       "\n",
       "    .dataframe thead th {\n",
       "        text-align: right;\n",
       "    }\n",
       "</style>\n",
       "<table border=\"1\" class=\"dataframe\">\n",
       "  <thead>\n",
       "    <tr style=\"text-align: right;\">\n",
       "      <th></th>\n",
       "      <th>Algorithm</th>\n",
       "      <th>Explained Variance Score</th>\n",
       "      <th>R2-score</th>\n",
       "      <th>Mean Absolute Error</th>\n",
       "      <th>Mean Squared Error</th>\n",
       "      <th>Root Mean Squared Error</th>\n",
       "    </tr>\n",
       "  </thead>\n",
       "  <tbody>\n",
       "    <tr>\n",
       "      <th>0</th>\n",
       "      <td>KNN</td>\n",
       "      <td>0.99</td>\n",
       "      <td>0.99</td>\n",
       "      <td>0.00</td>\n",
       "      <td>0.00</td>\n",
       "      <td>0.06</td>\n",
       "    </tr>\n",
       "    <tr>\n",
       "      <th>1</th>\n",
       "      <td>SVM</td>\n",
       "      <td>0.95</td>\n",
       "      <td>0.94</td>\n",
       "      <td>0.01</td>\n",
       "      <td>0.01</td>\n",
       "      <td>0.12</td>\n",
       "    </tr>\n",
       "    <tr>\n",
       "      <th>2</th>\n",
       "      <td>Logistic Regression</td>\n",
       "      <td>0.96</td>\n",
       "      <td>0.96</td>\n",
       "      <td>0.01</td>\n",
       "      <td>0.01</td>\n",
       "      <td>0.10</td>\n",
       "    </tr>\n",
       "    <tr>\n",
       "      <th>3</th>\n",
       "      <td>Linear Regression</td>\n",
       "      <td>0.97</td>\n",
       "      <td>0.97</td>\n",
       "      <td>0.04</td>\n",
       "      <td>0.01</td>\n",
       "      <td>0.09</td>\n",
       "    </tr>\n",
       "    <tr>\n",
       "      <th>4</th>\n",
       "      <td>Random Forest Regressor</td>\n",
       "      <td>0.73</td>\n",
       "      <td>0.73</td>\n",
       "      <td>0.12</td>\n",
       "      <td>0.07</td>\n",
       "      <td>0.26</td>\n",
       "    </tr>\n",
       "  </tbody>\n",
       "</table>\n",
       "</div>"
      ],
      "text/plain": [
       "                 Algorithm  Explained Variance Score  R2-score  \\\n",
       "0                      KNN                      0.99      0.99   \n",
       "1                      SVM                      0.95      0.94   \n",
       "2      Logistic Regression                      0.96      0.96   \n",
       "3        Linear Regression                      0.97      0.97   \n",
       "4  Random Forest Regressor                      0.73      0.73   \n",
       "\n",
       "   Mean Absolute Error  Mean Squared Error  Root Mean Squared Error  \n",
       "0                 0.00                0.00                     0.06  \n",
       "1                 0.01                0.01                     0.12  \n",
       "2                 0.01                0.01                     0.10  \n",
       "3                 0.04                0.01                     0.09  \n",
       "4                 0.12                0.07                     0.26  "
      ]
     },
     "execution_count": 22,
     "metadata": {},
     "output_type": "execute_result"
    }
   ],
   "source": [
    "pd.DataFrame(\n",
    "{'Algorithm':['KNN', 'SVM', 'Logistic Regression', 'Linear Regression', 'Random Forest Regressor'],\n",
    "'Explained Variance Score':[acc_knn[3], acc_svm[3], acc_logr[3], acc_lnr[3], acc_rfr[3]],\n",
    "'R2-score':[acc_knn[4], acc_svm[4], acc_logr[4], acc_lnr[4], acc_rfr[4]],\n",
    "'Mean Absolute Error':[acc_knn[5], acc_svm[5], acc_logr[5], acc_lnr[5], acc_rfr[5]],\n",
    "'Mean Squared Error':[acc_knn[6], acc_svm[6], acc_logr[6], acc_lnr[6], acc_rfr[6]],\n",
    "'Root Mean Squared Error':[acc_knn[7], acc_svm[7], acc_logr[7], acc_lnr[7], acc_rfr[7]]\n",
    "})\n"
   ]
  },
  {
   "cell_type": "markdown",
   "metadata": {},
   "source": [
    "# Using Model to predict the values\n"
   ]
  },
  {
   "cell_type": "code",
   "execution_count": 23,
   "metadata": {},
   "outputs": [],
   "source": [
    "lst = [kNN_model, SVM_model, LR_model, LRRR_model, rfr_model]\n",
    "\n",
    "\n",
    "test_df_raw = prepare_test_data(pd.read_csv(\"CSV/test_data1.csv\"))\n",
    "\n",
    "test_df = test_df_raw[x_columns]\n",
    "test_df_rnd = preprocessing.StandardScaler().fit(test_df).transform(test_df)\n",
    "\n",
    "\n",
    "for i, modll in enumerate(lst):\n",
    "    data_test_us = test_df\n",
    "    if(i==4): data_test_us = test_df_rnd\n",
    "    y_predctd = modll.predict(test_df_rnd)\n",
    "    \n",
    "    y_predctd = pd.DataFrame(y_predctd, columns = [\"PSPS_Activation_probability%\"])\n",
    "    ds = pd.concat([test_df_raw, y_predctd],axis=1)\n",
    "    ds[\"PSPS_Activation_probability%\"] = round(ds[\"PSPS_Activation_probability%\"] * 100, 2)\n",
    "    ds.to_csv(f\"Report/Result_{i}.csv\")\n"
   ]
  },
  {
   "cell_type": "markdown",
   "metadata": {},
   "source": [
    "# Data Visualization of Predicted Values"
   ]
  },
  {
   "cell_type": "code",
   "execution_count": 24,
   "metadata": {},
   "outputs": [
    {
     "data": {
      "image/png": "[encoded data removed]",
      "text/plain": [
       "<Figure size 800x600 with 1 Axes>"
      ]
     },
     "metadata": {
      "needs_background": "light"
     },
     "output_type": "display_data"
    }
   ],
   "source": [
    "fire_grp = pd.read_csv(f\"Report/Result_3.csv\")\n",
    "\n",
    "def fnc(x):\n",
    "    if (x>60): return \"C\"\n",
    "    elif (60>=x>40): return \"B\"\n",
    "    else: return \"A\"\n",
    "\n",
    "fire_grp[\"pspsGRP\"] = fire_grp[\"PSPS_Activation_probability%\"].apply(lambda x: fnc(x))\n",
    "month = fire_grp.groupby(['pspsGRP']).size().reset_index(name='count')[::-1].sort_values('pspsGRP')\n",
    "\n",
    "labels = [\"Low\", \"Medium\", \"High\"]\n",
    "values = month['count'].tolist()\n",
    "if(len(values)<3):\n",
    "    values += [0]*(3-len(values))\n",
    "\n",
    "plt.figure(figsize=(8, 6), dpi=100)\n",
    "plt.ylabel('Predicted Incidents', size = 15)\n",
    "plt.xlabel('Severity', size = 15)\n",
    "plt.bar(labels, values, color=['green', 'yellow', 'red'])\n",
    "xlocs = [0, 1, 2]\n",
    "for i, v in enumerate(month['count']):\n",
    "    plt.text(xlocs[i]-0.05, v + 5, str(v))\n",
    "\n",
    "plt.show()"
   ]
  }
 ],
 "metadata": {
  "kernelspec": {
   "display_name": "Python 3",
   "language": "python",
   "name": "python3"
  },
  "language_info": {
   "codemirror_mode": {
    "name": "ipython",
    "version": 3
   },
   "file_extension": ".py",
   "mimetype": "text/x-python",
   "name": "python",
   "nbconvert_exporter": "python",
   "pygments_lexer": "ipython3",
   "version": "3.7.6"
  }
 },
 "nbformat": 4,
 "nbformat_minor": 4
}
