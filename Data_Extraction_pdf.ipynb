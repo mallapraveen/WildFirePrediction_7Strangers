{
 "cells": [
  {
   "cell_type": "markdown",
   "metadata": {},
   "source": [
    "<h2>Pdf to CSV Extraction</h2>"
   ]
  },
  {
   "cell_type": "markdown",
   "metadata": {},
   "source": [
    "<p>This code is configured for SCE-2021 extraction, as pdf format is changing with every report we have to make the column changes for other year pdf reports.</p>"
   ]
  },
  {
   "cell_type": "code",
   "execution_count": 2,
   "metadata": {},
   "outputs": [
    {
     "name": "stdout",
     "output_type": "stream",
     "text": [
      "csv created at  Jan. 12-21, 2021 SCE PSPS Post Event Report.csv\n",
      "Completed\n"
     ]
    }
   ],
   "source": [
    "#!pip install tabula-py\n",
    "import time\n",
    "from tabula.io import convert_into\n",
    "from urllib.parse import unquote\n",
    "import pandas as pd\n",
    "import warnings\n",
    "warnings.simplefilter(action='ignore', category=FutureWarning)\n",
    "\n",
    "def readPDF(inputfile, page, outfile):\n",
    "    times = str(round(time.time() * 1000))\n",
    "    convert_into(inputfile, outfile, output_format=\"csv\", pages=page)\n",
    "    print(\"csv created at \",outfile)\n",
    "    \n",
    "def formatFile(outfile):\n",
    "    data = pd.read_csv(outfile)\n",
    "    data = data[data.ne(data.columns).any(1)]\n",
    "    data = data.loc[:, ~data.columns.str.contains('^Unnamed')]\n",
    "    data = data.loc[:, ~data.columns.str.contains('^N/A')]\n",
    "    data.dropna(inplace=True)\n",
    "\n",
    "    data = data[['County', 'Circuit', 'Reasons for De?\\rEnergization','FPI\\rValue','Wind\\rSustained', 'Gust\\rSustained','Thresholds\\r(Sustained/\\rGust)', 'POC\\r*(Not Originally in\\rScope)']]\n",
    "    data = data[data.ne(data.columns).any(1)]\n",
    "    data.reset_index(drop=True,inplace=True)\n",
    "    data.columns = ['County', 'Circuit', 'Reason', 'FPI','WindSustained', 'GustSustained','Thresholds', 'Month']\n",
    "    data['Month'] = pd.DatetimeIndex(pd.to_datetime(str(pd.datetime.now().year) \n",
    "                                                    + '/'\n",
    "                                                    + data['Month'].str[:4].replace('?',''), format='%Y/%m/%d')).month_name()\n",
    "    data['pspsActivated'] = 1\n",
    "    #data.head()\n",
    "    data.to_csv(outfile,index=False)\n",
    "    \n",
    "\n",
    "#inputfile = input(\"Enter pdf file name: \")\n",
    "#page = input(\"Enter page numbers: \")\n",
    "\n",
    "inputfile = 'https://www.cpuc.ca.gov/uploadedFiles/CPUCWebsite/Content/News_Room/NewsUpdates/2021/Jan.%2012-21,%202021%20SCE%20PSPS%20Post%20Event%20Report.pdf'\n",
    "outfile = f\"{unquote(inputfile.split('/')[-1])[:-4]}.csv\"\n",
    "page = '29-34'\n",
    "\n",
    "readPDF(inputfile,page, outfile)\n",
    "formatFile(outfile)\n",
    "\n",
    "print(\"Completed\")\n"
   ]
  },
  {
   "cell_type": "code",
   "execution_count": null,
   "metadata": {},
   "outputs": [],
   "source": []
  }
 ],
 "metadata": {
  "kernelspec": {
   "display_name": "Python 3",
   "language": "python",
   "name": "python3"
  },
  "language_info": {
   "codemirror_mode": {
    "name": "ipython",
    "version": 3
   },
   "file_extension": ".py",
   "mimetype": "text/x-python",
   "name": "python",
   "nbconvert_exporter": "python",
   "pygments_lexer": "ipython3",
   "version": "3.7.6"
  }
 },
 "nbformat": 4,
 "nbformat_minor": 4
}
